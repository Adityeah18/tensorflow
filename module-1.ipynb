{
  "nbformat": 4,
  "nbformat_minor": 0,
  "metadata": {
    "colab": {
      "provenance": [],
      "authorship_tag": "ABX9TyO5b3decdQrZzf2HKXbCZTe",
      "include_colab_link": true
    },
    "kernelspec": {
      "name": "python3",
      "display_name": "Python 3"
    },
    "language_info": {
      "name": "python"
    }
  },
  "cells": [
    {
      "cell_type": "markdown",
      "metadata": {
        "id": "view-in-github",
        "colab_type": "text"
      },
      "source": [
        "<a href=\"https://colab.research.google.com/github/Adityeah18/tensorflow/blob/main/module-1.ipynb\" target=\"_parent\"><img src=\"https://colab.research.google.com/assets/colab-badge.svg\" alt=\"Open In Colab\"/></a>"
      ]
    },
    {
      "cell_type": "markdown",
      "source": [
        "# Module-1\n",
        "\n",
        "### Some Theory:\n",
        "\n",
        "- **Machine Learning (ML)** is a subset of **Artificial Intelligence (AI)**.\n",
        "- **AI** works based on defined rules.\n",
        "- **ML** allows the system to define rules by learning from data using techniques like **Deep Learning**.\n",
        "- **Deep Learning** occurs between layers in what is known as a **Neural Network**.\n",
        "\n",
        "---\n",
        "\n",
        "## Types of Data in Machine Learning\n",
        "\n",
        "- **Features**: The inputs used to make predictions.\n",
        "- **Labels**: The outputs the model is trying to predict.\n",
        "\n",
        "---\n",
        "\n",
        "## Types of Learning\n",
        "\n",
        "### 1. Supervised Learning\n",
        "- Requires a large dataset containing both **features** and **labels**.\n",
        "- The model learns from these labeled examples to make predictions on new, unseen data.\n",
        "\n",
        "### 2. Unsupervised Learning\n",
        "- Uses **features** only; no labeled output.\n",
        "- The model attempts to identify patterns or groupings within the data.\n",
        "- Example: **K-means clustering**\n",
        "\n",
        "### 3. Reinforcement Learning\n",
        "- Involves training an **agent** through **rewards** and **penalties**.\n",
        "- There is no dataset; learning happens through interaction with an environment.\n",
        "- Correct actions are rewarded, and incorrect ones are penalized.\n",
        "- Example: training a robot through trial and error.\n"
      ],
      "metadata": {
        "id": "IGu1eA4U9ruO"
      }
    },
    {
      "cell_type": "markdown",
      "source": [
        "## TensorFlow\n",
        "\n",
        "### What is a Tensor?\n",
        "\n",
        "- TensorFlow is a machine learning library maintained by **Google**.\n",
        "- **Tensors** are multi-dimensional arrays (like vectors and matrices) that hold data.\n",
        "- In TensorFlow, tensors are partially defined data structures which we manipulate to optimize outcomes such as **accuracy**, **precision**, or **loss**.\n",
        "\n",
        "\n",
        "\n",
        "\n"
      ],
      "metadata": {
        "id": "lltK_MVjBI0o"
      }
    },
    {
      "cell_type": "code",
      "execution_count": 61,
      "metadata": {
        "colab": {
          "base_uri": "https://localhost:8080/"
        },
        "id": "Os6TTGwV9mNI",
        "outputId": "b1905b94-53d6-4484-b23b-92caabc4e082"
      },
      "outputs": [
        {
          "output_type": "stream",
          "name": "stdout",
          "text": [
            "Rank of rank1_tensor: tf.Tensor(1, shape=(), dtype=int32)\n",
            "Rank of rank2_tensor: tf.Tensor(2, shape=(), dtype=int32)\n"
          ]
        }
      ],
      "source": [
        "import tensorflow as tf\n",
        "\n",
        "# Example to demonstrate tensor ranks (degrees)\n",
        "\n",
        "# Rank 1 Tensor (1D): A single list of strings\n",
        "rank1_tensor = tf.Variable([\"Test\"], tf.string)\n",
        "\n",
        "# Rank 2 Tensor (2D): A matrix (list of lists) of strings\n",
        "rank2_tensor = tf.Variable([[\"Test2\", \"OK\"],[\"Test2\", \"OK\"]], tf.string)\n",
        "\n",
        "# Check and print the rank (number of dimensions) of the tensors\n",
        "print(\"Rank of rank1_tensor:\", tf.rank(rank1_tensor))  # Output: 1\n",
        "print(\"Rank of rank2_tensor:\", tf.rank(rank2_tensor))  # Output: 2\n"
      ]
    },
    {
      "cell_type": "markdown",
      "source": [
        "## Shapes of Tensors:\n",
        "### Shape\n",
        "\n",
        "- **Shape** represents the **dimensions** of the data.\n",
        "- Example: A shape of `(3, 4)` means 3 rows and 4 columns (like a 2D matrix).\n",
        "\n",
        "---\n",
        "\n",
        "### Rank (or Degree)\n",
        "\n",
        "- **Rank** refers to the **number of dimensions** a tensor has.\n",
        "- Examples:\n",
        "  - `[]` → Scalar → **Rank 0**\n",
        "  - `[1, 2, 3]` → Vector → **Rank 1**\n",
        "  - `[[1, 2], [3, 4]]` → Matrix → **Rank 2**\n",
        "\n",
        "The **shape** of a tensor defines how many elements exist across each dimension (axis) of the tensor. It helps us understand the structure of data stored inside.\n",
        "\n",
        "Think of it as:\n",
        "\n",
        "- The number of rows and columns (and more, if higher-dimensional) in the tensor.\n",
        "- It tells how many values are present in each vector or in the innermost brackets.\n",
        "\n",
        "\n",
        "#### Examples:\n",
        "\n",
        "- A 1D tensor like: `[\"hello\", \"world\"]` has shape `(2,)`\n",
        "- A 2D tensor like: `[[\"hi\", \"there\"], [\"ok\", \"sure\"]]` has shape `(2, 2)`\n",
        "- A 3D tensor like: `[[[\"a\"], [\"b\"]], [[\"c\"], [\"d\"]]]` has shape `(2, 2, 1)`\n"
      ],
      "metadata": {
        "id": "ZslP-2dqGM4n"
      }
    },
    {
      "cell_type": "code",
      "source": [
        "print(f'Rank1 {rank1_tensor.shape}')\n",
        "print(f'Rank2 {rank2_tensor.shape}' )"
      ],
      "metadata": {
        "colab": {
          "base_uri": "https://localhost:8080/"
        },
        "id": "5QwpjJm2F27_",
        "outputId": "de496c3c-3540-411c-8db7-0e22e5e14cf1"
      },
      "execution_count": 62,
      "outputs": [
        {
          "output_type": "stream",
          "name": "stdout",
          "text": [
            "Rank1 (1,)\n",
            "Rank2 (2, 2)\n"
          ]
        }
      ]
    },
    {
      "cell_type": "markdown",
      "source": [
        "###Changing the shapes"
      ],
      "metadata": {
        "id": "zmU4ikuGHBe3"
      }
    },
    {
      "cell_type": "code",
      "source": [
        "tensor1=tf.Variable([2],tf,int)\n",
        "#tf.rank(tensor1)\n",
        "tensor2=tf.ones([1,2,3])\n",
        "#tf.rank(tensor2)#Rank/Degree of tensor 2 = 3\n",
        "#tensor2.shape #Shape= TensorShape([1, 2, 3])\n",
        "\n",
        "#Reshaping\n",
        "tensor2_reshaped= tf.reshape(tensor2,[3,2,1])\n",
        "#print(tensor2_reshaped)\n",
        "#tf.rank(tensor2_reshaped)\n",
        "\n",
        "# Assuming tensor2_reshaped has shape (3, 2, 1) and 6 total elements\n",
        "tensor_reshaped = tf.reshape(tensor2_reshaped, [3, -1])\n",
        "\n",
        "# TensorFlow will calculate the second dimension:\n",
        "# total_elements = 6\n",
        "# first_dimension = 3\n",
        "# second_dimension = total_elements / first_dimension = 6 / 3 = 2\n",
        "\n",
        "# Therefore, tensor_reshaped will have shape (3, 2)\n",
        "\n",
        "print(tensor_reshaped)\n",
        "tf.rank(tensor_reshaped) #How the dree change to 2??"
      ],
      "metadata": {
        "colab": {
          "base_uri": "https://localhost:8080/"
        },
        "id": "ELWxDRAWHGGl",
        "outputId": "57a10b66-2b09-4755-9c44-81026ad59b61"
      },
      "execution_count": 63,
      "outputs": [
        {
          "output_type": "stream",
          "name": "stdout",
          "text": [
            "tf.Tensor(\n",
            "[[1. 1.]\n",
            " [1. 1.]\n",
            " [1. 1.]], shape=(3, 2), dtype=float32)\n"
          ]
        },
        {
          "output_type": "execute_result",
          "data": {
            "text/plain": [
              "<tf.Tensor: shape=(), dtype=int32, numpy=2>"
            ]
          },
          "metadata": {},
          "execution_count": 63
        }
      ]
    },
    {
      "cell_type": "markdown",
      "source": [
        "## Slice of Tensors\n",
        "Slice can be used in python in lists and tuples but it can also be used in tensorflow\n",
        "In tensorflow it is used in selecting some particular element of any vector\n",
        "In TensorFlow, slicing helps us access specific elements or subsets of data inside tensors. It is especially useful when dealing with batches, time steps, or any structured tensor data."
      ],
      "metadata": {
        "id": "DdhokjIDK_M2"
      }
    },
    {
      "cell_type": "code",
      "source": [
        "#Creating the 2d Tensor\n",
        "matrix=[[1,2,3,4,5],\n",
        "        [6,7,8,9,10],\n",
        "        [11,12,13,14,15],\n",
        "        [16,17,18,19,20]]\n",
        "tensor=tf.Variable(matrix,tf.int32) #int32 is the datatype used in tf as for int in pythoh\n",
        "print(tf.rank(tensor)) #<tf.Tensor: shape=(), dtype=int32, numpy=2>\n",
        "print(tensor.shape) #TensorShape([4, 5])\n"
      ],
      "metadata": {
        "colab": {
          "base_uri": "https://localhost:8080/"
        },
        "id": "Iw4m8AscK3kW",
        "outputId": "5d743aa2-cf0b-44fe-84b2-90dd4ffe34cd"
      },
      "execution_count": 64,
      "outputs": [
        {
          "output_type": "stream",
          "name": "stdout",
          "text": [
            "tf.Tensor(2, shape=(), dtype=int32)\n",
            "(4, 5)\n"
          ]
        }
      ]
    },
    {
      "cell_type": "code",
      "source": [
        "#Let's select the vector(slicing from out matrix)\n",
        "#Remember python index starts with 0\n",
        "\n",
        "#slecting row 1 element 3\n",
        "element_three=tensor[0,2] #\n",
        "print(element_three)# 3\n",
        "\n",
        "row1=tensor[0]#[1,2,3,4,5]\n",
        "print(row1)\n",
        "\n",
        "#tensor[start_index : end_index]\n",
        "column2=tensor[:,1]\n",
        "print(column2) #[ 2  7 12 17]\n",
        "\n",
        "#tensor[start_row:end_row, start_col:end_col]\n",
        "\n",
        "row2_and_row4=tensor[1:3]\n",
        "print(row2_and_row4)#[ 6  7  8  9 10]\n",
        "                    #[11 12 13 14 15]\n",
        "\n",
        "col1_in_row2_and_row3=tensor[1:2,0]\n",
        "print(col1_in_row2_and_row3)# [ 6  7  8  9 10]\n",
        "                             #[11 12 13 14 15]\n",
        "\n"
      ],
      "metadata": {
        "colab": {
          "base_uri": "https://localhost:8080/"
        },
        "id": "BR1I0s2MNfHN",
        "outputId": "b307af04-54b7-40d3-a175-005f4e7c5af6"
      },
      "execution_count": 65,
      "outputs": [
        {
          "output_type": "stream",
          "name": "stdout",
          "text": [
            "tf.Tensor(3, shape=(), dtype=int32)\n",
            "tf.Tensor([1 2 3 4 5], shape=(5,), dtype=int32)\n",
            "tf.Tensor([ 2  7 12 17], shape=(4,), dtype=int32)\n",
            "tf.Tensor(\n",
            "[[ 6  7  8  9 10]\n",
            " [11 12 13 14 15]], shape=(2, 5), dtype=int32)\n",
            "tf.Tensor([6], shape=(1,), dtype=int32)\n"
          ]
        }
      ]
    }
  ]
}