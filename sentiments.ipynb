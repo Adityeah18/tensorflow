{
  "nbformat": 4,
  "nbformat_minor": 0,
  "metadata": {
    "colab": {
      "provenance": [],
      "gpuType": "T4",
      "authorship_tag": "ABX9TyOY18AlSCJ06AYN0wgI38DE",
      "include_colab_link": true
    },
    "kernelspec": {
      "name": "python3",
      "display_name": "Python 3"
    },
    "language_info": {
      "name": "python"
    },
    "accelerator": "GPU"
  },
  "cells": [
    {
      "cell_type": "markdown",
      "metadata": {
        "id": "view-in-github",
        "colab_type": "text"
      },
      "source": [
        "<a href=\"https://colab.research.google.com/github/Adityeah18/tensorflow/blob/main/sentiments.ipynb\" target=\"_parent\"><img src=\"https://colab.research.google.com/assets/colab-badge.svg\" alt=\"Open In Colab\"/></a>"
      ]
    },
    {
      "cell_type": "markdown",
      "source": [
        "#Libraries"
      ],
      "metadata": {
        "id": "1kXtotwwvQ4X"
      }
    },
    {
      "cell_type": "code",
      "execution_count": 3,
      "metadata": {
        "id": "Q4R6Cz9Y2TBW"
      },
      "outputs": [],
      "source": [
        "import matplotlib.pyplot as plt\n",
        "import os\n",
        "import re\n",
        "import shutil\n",
        "import string\n",
        "import tensorflow as tf\n",
        "\n",
        "from tensorflow.keras import layers\n",
        "from tensorflow.keras import losses\n"
      ]
    },
    {
      "cell_type": "markdown",
      "source": [
        "#Downloading Dataset"
      ],
      "metadata": {
        "id": "Bmsg7E-9viKZ"
      }
    },
    {
      "cell_type": "code",
      "source": [
        "print(tf.__version__)\n",
        "url = \"https://ai.stanford.edu/~amaas/data/sentiment/aclImdb_v1.tar.gz\"\n",
        "\n",
        "dataset = tf.keras.utils.get_file(\n",
        "    \"aclImdb_v1\", url, untar=True, cache_dir=\".\", cache_subdir=\"\"\n",
        ")  # Downloading and extracting\n",
        "# dataset_dir = os.path.join(os.path.dirname(dataset), 'aclImdb') #This path given by Documentation is not working\n",
        "dataset_dir = os.path.join(dataset, \"aclImdb\")\n",
        "train_dir = os.path.join(\n",
        "    dataset_dir, \"train\"\n",
        ")  # directory for train set in the downloaded data"
      ],
      "metadata": {
        "colab": {
          "base_uri": "https://localhost:8080/"
        },
        "id": "6JIWNN_a3rIk",
        "outputId": "5459f952-464c-431e-d607-fa54020a462b"
      },
      "execution_count": 4,
      "outputs": [
        {
          "output_type": "stream",
          "name": "stdout",
          "text": [
            "2.18.0\n",
            "Downloading data from https://ai.stanford.edu/~amaas/data/sentiment/aclImdb_v1.tar.gz\n",
            "\u001b[1m84125825/84125825\u001b[0m \u001b[32m━━━━━━━━━━━━━━━━━━━━\u001b[0m\u001b[37m\u001b[0m \u001b[1m6s\u001b[0m 0us/step\n"
          ]
        }
      ]
    },
    {
      "cell_type": "markdown",
      "source": [
        "Viewing the dataset"
      ],
      "metadata": {
        "id": "2QmPW10dxEZO"
      }
    },
    {
      "cell_type": "code",
      "source": [
        "#To see the Review at position 1181, of Positive train set\n",
        "sample_file = os.path.join(train_dir, 'pos/1181_9.txt')\n",
        "with open(sample_file) as f:\n",
        "  print(f.read())\n"
      ],
      "metadata": {
        "colab": {
          "base_uri": "https://localhost:8080/"
        },
        "id": "rZCUYZZfw9YA",
        "outputId": "7176e1fa-5886-4cff-e2b9-a6815a2bb264"
      },
      "execution_count": 5,
      "outputs": [
        {
          "output_type": "stream",
          "name": "stdout",
          "text": [
            "Rachel Griffiths writes and directs this award winning short film. A heartwarming story about coping with grief and cherishing the memory of those we've loved and lost. Although, only 15 minutes long, Griffiths manages to capture so much emotion and truth onto film in the short space of time. Bud Tingwell gives a touching performance as Will, a widower struggling to cope with his wife's death. Will is confronted by the harsh reality of loneliness and helplessness as he proceeds to take care of Ruth's pet cow, Tulip. The film displays the grief and responsibility one feels for those they have loved and lost. Good cinematography, great direction, and superbly acted. It will bring tears to all those who have lost a loved one, and survived.\n"
          ]
        }
      ]
    },
    {
      "cell_type": "code",
      "source": [
        "# random review from the positive set\n",
        "import random\n",
        "\n",
        "pos_dir = os.path.join(train_dir, \"pos\")\n",
        "sample_filename = random.choice(os.listdir(pos_dir))\n",
        "sample_path = os.path.join(pos_dir, sample_filename)\n",
        "\n",
        "with open(sample_path) as f:\n",
        "    print(f\"\\nReview: {sample_filename}\\n\")\n",
        "    print(f.read())"
      ],
      "metadata": {
        "colab": {
          "base_uri": "https://localhost:8080/"
        },
        "id": "UgBDduywBROy",
        "outputId": "c67267d2-aa43-4231-c6cc-fba919e7c2e7"
      },
      "execution_count": 6,
      "outputs": [
        {
          "output_type": "stream",
          "name": "stdout",
          "text": [
            "\n",
            "Review: 11082_10.txt\n",
            "\n",
            "I watched this movie when I was almost quite a kid, and, naturally, was moved to tears by this story of a fox family. The fantastic scenery at Hokkaidô, the excellent storytelling and last not least the wonderful soundtrack provide a rare intimacy with the protagonists. I am still searching for some copy of the gorgeous soundtrack. To German viewers it might be useful to know that the DEFA-dubbing is the only one worth listening to. I taped both (DEFA and BR) but I keep viewing the first one only.\n"
          ]
        }
      ]
    },
    {
      "cell_type": "code",
      "source": [
        "# Remove the directory for the unsupervised dataset from 'train_dir'\n",
        "remove_dir = os.path.join(\n",
        "    train_dir, \"unsup\"\n",
        ")  # Removing the file directory of the unsupervised set\n",
        "shutil.rmtree(remove_dir)  # This deletes the 'unsup' directory and all its contents\n",
        "\n",
        "# Batch size for training. Determines the number of samples processed in one step.\n",
        "batch_size = 32  # A batch size of 32 is common, but it may vary depending on your system and dataset.\n",
        "\n",
        "# Seed for reproducibility. This ensures the random operations (like data shuffling) are consistent across runs.\n",
        "seed = 42  # A specific seed value is chosen to make the random processes deterministic.\n",
        "\n",
        "# Loading the raw training dataset with text files in the directory\n",
        "raw_train_ds = tf.keras.utils.text_dataset_from_directory(\n",
        "    train_dir,  # The directory where the training data is located (after removing 'unsup')\n",
        "    batch_size=batch_size,  # Number of samples to return in each batch\n",
        "    validation_split=0.2,  # 20% of the data will be used for validation\n",
        "    subset=\"training\",  # Indicating that this is the training subset (remaining 80% is training data)\n",
        "    seed=seed,\n",
        ")  # Using the seed for random operations (like splitting the data)"
      ],
      "metadata": {
        "colab": {
          "base_uri": "https://localhost:8080/"
        },
        "id": "1Xlz1hLN35Nn",
        "outputId": "7cc0ee98-2c57-437c-dda5-ff867e64ff27"
      },
      "execution_count": 7,
      "outputs": [
        {
          "output_type": "stream",
          "name": "stdout",
          "text": [
            "Found 25000 files belonging to 2 classes.\n",
            "Using 20000 files for training.\n"
          ]
        }
      ]
    },
    {
      "cell_type": "markdown",
      "source": [
        "Example of 1st 3 reviews in training set"
      ],
      "metadata": {
        "id": "8BXyH74B50Uy"
      }
    },
    {
      "cell_type": "code",
      "source": [
        "# Iterate through the raw_train_ds dataset, and take the first batch\n",
        "for text_batch, label_batch in raw_train_ds.take(1):\n",
        "    # 'take(1)' retrieves the first batch of data (text and labels)\n",
        "\n",
        "    # Loop through the first 3 items in the batch\n",
        "    for i in range(3):\n",
        "        # Print the text review (converted from tensor to numpy array for readability)\n",
        "        print(\"Review\", text_batch.numpy()[i])\n",
        "\n",
        "        # Print the corresponding label (converted from tensor to numpy array for readability)\n",
        "        print(\"Label\", label_batch.numpy()[i])"
      ],
      "metadata": {
        "colab": {
          "base_uri": "https://localhost:8080/"
        },
        "id": "tFgACKZE5xgi",
        "outputId": "51b12789-8d17-4869-c5d9-a11317b075b5"
      },
      "execution_count": 8,
      "outputs": [
        {
          "output_type": "stream",
          "name": "stdout",
          "text": [
            "Review b'\"Pandemonium\" is a horror movie spoof that comes off more stupid than funny. Believe me when I tell you, I love comedies. Especially comedy spoofs. \"Airplane\", \"The Naked Gun\" trilogy, \"Blazing Saddles\", \"High Anxiety\", and \"Spaceballs\" are some of my favorite comedies that spoof a particular genre. \"Pandemonium\" is not up there with those films. Most of the scenes in this movie had me sitting there in stunned silence because the movie wasn\\'t all that funny. There are a few laughs in the film, but when you watch a comedy, you expect to laugh a lot more than a few times and that\\'s all this film has going for it. Geez, \"Scream\" had more laughs than this film and that was more of a horror film. How bizarre is that?<br /><br />*1/2 (out of four)'\n",
            "Label 0\n",
            "Review b\"David Mamet is a very interesting and a very un-equal director. His first movie 'House of Games' was the one I liked best, and it set a series of films with characters whose perspective of life changes as they get into complicated situations, and so does the perspective of the viewer.<br /><br />So is 'Homicide' which from the title tries to set the mind of the viewer to the usual crime drama. The principal characters are two cops, one Jewish and one Irish who deal with a racially charged area. The murder of an old Jewish shop owner who proves to be an ancient veteran of the Israeli Independence war triggers the Jewish identity in the mind and heart of the Jewish detective.<br /><br />This is were the flaws of the film are the more obvious. The process of awakening is theatrical and hard to believe, the group of Jewish militants is operatic, and the way the detective eventually walks to the final violent confrontation is pathetic. The end of the film itself is Mamet-like smart, but disappoints from a human emotional perspective.<br /><br />Joe Mantegna and William Macy give strong performances, but the flaws of the story are too evident to be easily compensated.\"\n",
            "Label 0\n",
            "Review b'Great documentary about the lives of NY firefighters during the worst terrorist attack of all time.. That reason alone is why this should be a must see collectors item.. What shocked me was not only the attacks, but the\"High Fat Diet\" and physical appearance of some of these firefighters. I think a lot of Doctors would agree with me that,in the physical shape they were in, some of these firefighters would NOT of made it to the 79th floor carrying over 60 lbs of gear. Having said that i now have a greater respect for firefighters and i realize becoming a firefighter is a life altering job. The French have a history of making great documentary\\'s and that is what this is, a Great Documentary.....'\n",
            "Label 1\n"
          ]
        }
      ]
    },
    {
      "cell_type": "markdown",
      "source": [
        "in the review text we seen tags like line breakand all other stuff,\n",
        "Also the labels which are targets tells 0 and 1 , to see what those 0 and 1 means see below:"
      ],
      "metadata": {
        "id": "98ugAats6IEF"
      }
    },
    {
      "cell_type": "code",
      "source": [
        "print(\n",
        "    \"Label 0 correponds to\", raw_train_ds.class_names[0]\n",
        ")  # Displaying the name of class at index 0\n",
        "print(\n",
        "    \"Label 1 corresponds to\", raw_train_ds.class_names[1]\n",
        ")  # Displaying the name of class at index"
      ],
      "metadata": {
        "colab": {
          "base_uri": "https://localhost:8080/"
        },
        "id": "UvwuqehA6fxN",
        "outputId": "e776ced7-8551-4f4b-ae6d-4ad9ddd42fa8"
      },
      "execution_count": 9,
      "outputs": [
        {
          "output_type": "stream",
          "name": "stdout",
          "text": [
            "Label 0 correponds to neg\n",
            "Label 1 corresponds to pos\n"
          ]
        }
      ]
    },
    {
      "cell_type": "markdown",
      "source": [
        "we have seen the 0 = negative review1=Positive review\n"
      ],
      "metadata": {
        "id": "gK_NEI1T7Bqz"
      }
    },
    {
      "cell_type": "markdown",
      "source": [
        "#Test-Train Split\n",
        "\n",
        "now we train the 80 %  and test the remaining 20 % which makes:\n",
        "80% train\n",
        "20% test"
      ],
      "metadata": {
        "id": "kr6BX5yVWEWJ"
      }
    },
    {
      "cell_type": "code",
      "source": [
        "# Load the validation dataset\n",
        "raw_val_ds = tf.keras.utils.text_dataset_from_directory(\n",
        "    train_dir,  # Use train_dir variable which has correct path\n",
        "    batch_size=batch_size,\n",
        "    validation_split=0.2,  # 20% of the training data will be used for validation\n",
        "    subset=\"validation\",  # Specifies this is for validation\n",
        "    seed=seed,  # Ensures reproducibility\n",
        ")\n",
        "\n",
        "# Define the directory for the test data\n",
        "test_dir = os.path.join(dataset_dir, \"test\")\n",
        "\n",
        "# Load the test dataset\n",
        "raw_test_ds = tf.keras.utils.text_dataset_from_directory(\n",
        "    test_dir,  # Now use the defined test_dir variable\n",
        "    batch_size=batch_size,  # The batch size for the test dataset\n",
        ")"
      ],
      "metadata": {
        "colab": {
          "base_uri": "https://localhost:8080/"
        },
        "id": "7IBvanxcYoGt",
        "outputId": "f8517197-2672-43a6-d50d-6bd12f34c46b"
      },
      "execution_count": 10,
      "outputs": [
        {
          "output_type": "stream",
          "name": "stdout",
          "text": [
            "Found 25000 files belonging to 2 classes.\n",
            "Using 5000 files for validation.\n",
            "Found 25000 files belonging to 2 classes.\n"
          ]
        }
      ]
    },
    {
      "cell_type": "markdown",
      "source": [
        "see th 5000 is used for test of dataset"
      ],
      "metadata": {
        "id": "uTvEiBoQYtFk"
      }
    },
    {
      "cell_type": "markdown",
      "source": [
        "#Preperation of Dataset\n",
        "\n",
        "For data preperation the we have to make the dataset CLAEAN:\n",
        "for that we have to\n",
        "\n",
        "1.   Standardize=remove punct and </ br> of HTML\n",
        "2.   Tokennize = splitint the words with whitespaces\n",
        "3.   Vectorize = converting str into number\n",
        "For all this we have keras.TextVectorization in layers"
      ],
      "metadata": {
        "id": "Hekx6y1iZPJr"
      }
    },
    {
      "cell_type": "code",
      "source": [
        "from tensorflow.keras.layers import TextVectorization  # Correct import\n",
        "\n",
        "\n",
        "def custom_standardization(input_data):\n",
        "    # Convert input to lowercase\n",
        "    lowercase = tf.strings.lower(input_data)\n",
        "    # Remove any HTML tags like <br />\n",
        "    stripped_html = tf.strings.regex_replace(\n",
        "        lowercase, \"<br />\", \" \"\n",
        "    )  # Fixed: Replaced '<br />' with '<br />' and added space\n",
        "    # Remove punctuation using regex\n",
        "    return tf.strings.regex_replace(\n",
        "        stripped_html, \"[%s]\" % re.escape(string.punctuation), \"\"\n",
        "    )  # Fixed: Changed tf.string to tf.strings\n",
        "\n",
        "\n",
        "# Parameters for vectorization\n",
        "max_features = 10000  # The number of unique words to keep (vocabulary size)\n",
        "sequence_length = 250  # The length of the input sequences (padding/truncating)\n",
        "\n",
        "# Create the TextVectorization layer\n",
        "vectorize_layer = TextVectorization(  # Changed layers.Vectorization to TextVectorization\n",
        "    standardize=custom_standardization,  # Custom standardization function\n",
        "    max_tokens=max_features,  # Maximum number of words to consider\n",
        "    output_mode=\"int\",  # Output integers (indices of words in vocabulary)\n",
        "    output_sequence_length=sequence_length,  # The length of each sequence (padding or truncating will occur)\n",
        ")"
      ],
      "metadata": {
        "id": "Q83gS2jkYrgV"
      },
      "execution_count": 11,
      "outputs": []
    },
    {
      "cell_type": "markdown",
      "source": [
        "making the text only dataset"
      ],
      "metadata": {
        "id": "8zI17p8e8_oS"
      }
    },
    {
      "cell_type": "code",
      "source": [
        "# Extract only text (input data) from the training dataset\n",
        "train_text = raw_train_ds.map(lambda x, y: x)\n",
        "\n",
        "# Adapt the vectorization layer to the training data (calculating the vocabulary)\n",
        "vectorize_layer.adapt(train_text)"
      ],
      "metadata": {
        "id": "s4m76c2i9JOD"
      },
      "execution_count": 12,
      "outputs": []
    },
    {
      "cell_type": "markdown",
      "source": [
        "Creating a function for this vectorize text"
      ],
      "metadata": {
        "id": "K0BXl0XE-ZnE"
      }
    },
    {
      "cell_type": "code",
      "source": [
        "def vectorize_text(text, label):\n",
        "    text = tf.expand_dims(text, -1)  # don know what expand is doing??\n",
        "    return vectorize_layer(text), label\n",
        "\n",
        "\n",
        "# getting the batch of 59 reviews and labes from dataset\n",
        "text_batch, label_batch = next(iter(raw_train_ds))  # ???\n",
        "# reading the only 1st review and then reading its label and showing\n",
        "first_review, first_label = text_batch[0], label_batch[0]\n",
        "print(\"Review:\", first_review)\n",
        "print(\"Label:\", raw_train_ds.class_names[first_label])\n",
        "print(\"Vectorized review:\", vectorize_text(first_review, first_label))\n",
        "# Why above is retriving the 32 reviews and 32 labels? inever mention 32?\n",
        "\n",
        "# Printing the selected integer vectorization text into its text\n",
        "print(\"1287\", vectorize_layer.get_vocabulary()[1287])\n",
        "print(\"313\", vectorize_layer.get_vocabulary()[313])"
      ],
      "metadata": {
        "colab": {
          "base_uri": "https://localhost:8080/"
        },
        "id": "547kejQg-ZMq",
        "outputId": "6f98dec3-00be-4b97-9a1d-ffbb10f2008b"
      },
      "execution_count": 13,
      "outputs": [
        {
          "output_type": "stream",
          "name": "stdout",
          "text": [
            "Review: tf.Tensor(b'Silent Night, Deadly Night 5 is the very last of the series, and like part 4, it\\'s unrelated to the first three except by title and the fact that it\\'s a Christmas-themed horror flick.<br /><br />Except to the oblivious, there\\'s some obvious things going on here...Mickey Rooney plays a toymaker named Joe Petto and his creepy son\\'s name is Pino. Ring a bell, anyone? Now, a little boy named Derek heard a knock at the door one evening, and opened it to find a present on the doorstep for him. Even though it said \"don\\'t open till Christmas\", he begins to open it anyway but is stopped by his dad, who scolds him and sends him to bed, and opens the gift himself. Inside is a little red ball that sprouts Santa arms and a head, and proceeds to kill dad. Oops, maybe he should have left well-enough alone. Of course Derek is then traumatized by the incident since he watched it from the stairs, but he doesn\\'t grow up to be some killer Santa, he just stops talking.<br /><br />There\\'s a mysterious stranger lurking around, who seems very interested in the toys that Joe Petto makes. We even see him buying a bunch when Derek\\'s mom takes him to the store to find a gift for him to bring him out of his trauma. And what exactly is this guy doing? Well, we\\'re not sure but he does seem to be taking these toys apart to see what makes them tick. He does keep his landlord from evicting him by promising him to pay him in cash the next day and presents him with a \"Larry the Larvae\" toy for his kid, but of course \"Larry\" is not a good toy and gets out of the box in the car and of course, well, things aren\\'t pretty.<br /><br />Anyway, eventually what\\'s going on with Joe Petto and Pino is of course revealed, and as with the old story, Pino is not a \"real boy\". Pino is probably even more agitated and naughty because he suffers from \"Kenitalia\" (a smooth plastic crotch) so that could account for his evil ways. And the identity of the lurking stranger is revealed too, and there\\'s even kind of a happy ending of sorts. Whee.<br /><br />A step up from part 4, but not much of one. Again, Brian Yuzna is involved, and Screaming Mad George, so some decent special effects, but not enough to make this great. A few leftovers from part 4 are hanging around too, like Clint Howard and Neith Hunter, but that doesn\\'t really make any difference. Anyway, I now have seeing the whole series out of my system. Now if I could get some of it out of my brain. 4 out of 5.', shape=(), dtype=string)\n",
            "Label: neg\n",
            "Vectorized review: (<tf.Tensor: shape=(1, 250), dtype=int64, numpy=\n",
            "array([[1287,  313, 2380,  313,  661,    7,    2,   52,  229,    5,    2,\n",
            "         200,    3,   38,  170,  669,   29, 5492,    6,    2,   83,  297,\n",
            "         549,   32,  410,    3,    2,  186,   12,   29,    4,    1,  191,\n",
            "         510,  549,    6,    2, 8229,  212,   46,  576,  175,  168,   20,\n",
            "           1, 5361,  290,    4,    1,  761,  969,    1,    3,   24,  935,\n",
            "        2271,  393,    7,    1, 1675,    4, 3747,  250,  148,    4,  112,\n",
            "         436,  761, 3529,  548,    4, 3633,   31,    2, 1331,   28, 2096,\n",
            "           3, 2912,    9,    6,  163,    4, 1006,   20,    2,    1,   15,\n",
            "          85,   53,  147,    9,  292,   89,  959, 2314,  984,   27,  762,\n",
            "           6,  959,    9,  564,   18,    7, 2140,   32,   24, 1254,   36,\n",
            "           1,   85,    3, 3298,   85,    6, 1410,    3, 1936,    2, 3408,\n",
            "         301,  965,    7,    4,  112,  740, 1977,   12,    1, 2014, 2772,\n",
            "           3,    4,  428,    3, 5177,    6,  512, 1254,    1,  278,   27,\n",
            "         139,   25,  308,    1,  579,    5,  259, 3529,    7,   92, 8981,\n",
            "          32,    2, 3842,  230,   27,  289,    9,   35,    2, 5712,   18,\n",
            "          27,  144, 2166,   56,    6,   26,   46,  466, 2014,   27,   40,\n",
            "        2745,  657,  212,    4, 1376, 3002, 7080,  183,   36,  180,   52,\n",
            "         920,    8,    2, 4028,   12,  969,    1,  158,   71,   53,   67,\n",
            "          85, 2754,    4,  734,   51,    1, 1611,  294,   85,    6,    2,\n",
            "        1164,    6,  163,    4, 3408,   15,   85,    6,  717,   85,   44,\n",
            "           5,   24, 7158,    3,   48,  604,    7,   11,  225,  384,   73,\n",
            "          65,   21,  242,   18,   27,  120,  295,    6,   26,  667,  129,\n",
            "        4028,  948,    6,   67,   48,  158,   93,    1]])>, <tf.Tensor: shape=(), dtype=int32, numpy=0>)\n",
            "1287 silent\n",
            "313 night\n"
          ]
        }
      ]
    },
    {
      "cell_type": "markdown",
      "source": [
        "#Training dataset"
      ],
      "metadata": {
        "id": "orBkyXcyDVsl"
      }
    },
    {
      "cell_type": "code",
      "source": [
        "# Mapping the vectorize_text function to each dataset\n",
        "x_train = raw_train_ds.map(vectorize_text)\n",
        "x_val = raw_val_ds.map(vectorize_text)\n",
        "x_test = raw_test_ds.map(vectorize_text)\n",
        "\n",
        "# Cache the datasets to speed up access\n",
        "# This stores the dataset in memory after the first pass, preventing it from being read multiple times from disk\n",
        "# The prefetch method prepares the next batch of data while the model is training\n",
        "AUTOTUNE = tf.data.AUTOTUNE\n",
        "\n",
        "x_train = x_train.cache().prefetch(buffer_size=AUTOTUNE)\n",
        "x_val = x_val.cache().prefetch(buffer_size=AUTOTUNE)\n",
        "x_test = x_test.cache().prefetch(buffer_size=AUTOTUNE)"
      ],
      "metadata": {
        "id": "mEpOZy6KBAss"
      },
      "execution_count": 14,
      "outputs": []
    },
    {
      "cell_type": "markdown",
      "source": [
        "Creating a model= Neural Network"
      ],
      "metadata": {
        "id": "17svEkmEGxol"
      }
    },
    {
      "cell_type": "code",
      "source": [
        "embedding_dim = 16  # Dimensionality of the word embeddings\n",
        "\n",
        "model = tf.keras.Sequential(\n",
        "    [\n",
        "        layers.Embedding(\n",
        "            max_features, embedding_dim\n",
        "        ),  # Embedding layer transforms words into vectors of size `embedding_dim`\n",
        "        layers.Dropout(\n",
        "            0.2\n",
        "        ),  # Dropout to reduce overfitting by ignoring 20% of input randomly\n",
        "        layers.GlobalAveragePooling1D(),  # Pooling to average the word embeddings across the sequence\n",
        "        layers.Dropout(0.2),  # Another Dropout layer for further regularization\n",
        "        layers.Dense(\n",
        "            1, activation=\"sigmoid\"\n",
        "        ),  # Sigmoid activation for binary classification (output between 0 and 1)\n",
        "    ]\n",
        ")\n",
        "\n",
        "model.summary()"
      ],
      "metadata": {
        "colab": {
          "base_uri": "https://localhost:8080/",
          "height": 318
        },
        "id": "r6Svm4M2Aq0C",
        "outputId": "8ce09da6-fde1-4b9f-951b-8614e6bfe5f3"
      },
      "execution_count": 58,
      "outputs": [
        {
          "output_type": "display_data",
          "data": {
            "text/plain": [
              "\u001b[1mModel: \"sequential_14\"\u001b[0m\n"
            ],
            "text/html": [
              "<pre style=\"white-space:pre;overflow-x:auto;line-height:normal;font-family:Menlo,'DejaVu Sans Mono',consolas,'Courier New',monospace\"><span style=\"font-weight: bold\">Model: \"sequential_14\"</span>\n",
              "</pre>\n"
            ]
          },
          "metadata": {}
        },
        {
          "output_type": "display_data",
          "data": {
            "text/plain": [
              "┏━━━━━━━━━━━━━━━━━━━━━━━━━━━━━━━━━┳━━━━━━━━━━━━━━━━━━━━━━━━┳━━━━━━━━━━━━━━━┓\n",
              "┃\u001b[1m \u001b[0m\u001b[1mLayer (type)                   \u001b[0m\u001b[1m \u001b[0m┃\u001b[1m \u001b[0m\u001b[1mOutput Shape          \u001b[0m\u001b[1m \u001b[0m┃\u001b[1m \u001b[0m\u001b[1m      Param #\u001b[0m\u001b[1m \u001b[0m┃\n",
              "┡━━━━━━━━━━━━━━━━━━━━━━━━━━━━━━━━━╇━━━━━━━━━━━━━━━━━━━━━━━━╇━━━━━━━━━━━━━━━┩\n",
              "│ embedding_2 (\u001b[38;5;33mEmbedding\u001b[0m)         │ ?                      │   \u001b[38;5;34m0\u001b[0m (unbuilt) │\n",
              "├─────────────────────────────────┼────────────────────────┼───────────────┤\n",
              "│ dropout_4 (\u001b[38;5;33mDropout\u001b[0m)             │ ?                      │             \u001b[38;5;34m0\u001b[0m │\n",
              "├─────────────────────────────────┼────────────────────────┼───────────────┤\n",
              "│ global_average_pooling1d_2      │ ?                      │             \u001b[38;5;34m0\u001b[0m │\n",
              "│ (\u001b[38;5;33mGlobalAveragePooling1D\u001b[0m)        │                        │               │\n",
              "├─────────────────────────────────┼────────────────────────┼───────────────┤\n",
              "│ dropout_5 (\u001b[38;5;33mDropout\u001b[0m)             │ ?                      │             \u001b[38;5;34m0\u001b[0m │\n",
              "├─────────────────────────────────┼────────────────────────┼───────────────┤\n",
              "│ dense_1 (\u001b[38;5;33mDense\u001b[0m)                 │ ?                      │   \u001b[38;5;34m0\u001b[0m (unbuilt) │\n",
              "└─────────────────────────────────┴────────────────────────┴───────────────┘\n"
            ],
            "text/html": [
              "<pre style=\"white-space:pre;overflow-x:auto;line-height:normal;font-family:Menlo,'DejaVu Sans Mono',consolas,'Courier New',monospace\">┏━━━━━━━━━━━━━━━━━━━━━━━━━━━━━━━━━┳━━━━━━━━━━━━━━━━━━━━━━━━┳━━━━━━━━━━━━━━━┓\n",
              "┃<span style=\"font-weight: bold\"> Layer (type)                    </span>┃<span style=\"font-weight: bold\"> Output Shape           </span>┃<span style=\"font-weight: bold\">       Param # </span>┃\n",
              "┡━━━━━━━━━━━━━━━━━━━━━━━━━━━━━━━━━╇━━━━━━━━━━━━━━━━━━━━━━━━╇━━━━━━━━━━━━━━━┩\n",
              "│ embedding_2 (<span style=\"color: #0087ff; text-decoration-color: #0087ff\">Embedding</span>)         │ ?                      │   <span style=\"color: #00af00; text-decoration-color: #00af00\">0</span> (unbuilt) │\n",
              "├─────────────────────────────────┼────────────────────────┼───────────────┤\n",
              "│ dropout_4 (<span style=\"color: #0087ff; text-decoration-color: #0087ff\">Dropout</span>)             │ ?                      │             <span style=\"color: #00af00; text-decoration-color: #00af00\">0</span> │\n",
              "├─────────────────────────────────┼────────────────────────┼───────────────┤\n",
              "│ global_average_pooling1d_2      │ ?                      │             <span style=\"color: #00af00; text-decoration-color: #00af00\">0</span> │\n",
              "│ (<span style=\"color: #0087ff; text-decoration-color: #0087ff\">GlobalAveragePooling1D</span>)        │                        │               │\n",
              "├─────────────────────────────────┼────────────────────────┼───────────────┤\n",
              "│ dropout_5 (<span style=\"color: #0087ff; text-decoration-color: #0087ff\">Dropout</span>)             │ ?                      │             <span style=\"color: #00af00; text-decoration-color: #00af00\">0</span> │\n",
              "├─────────────────────────────────┼────────────────────────┼───────────────┤\n",
              "│ dense_1 (<span style=\"color: #0087ff; text-decoration-color: #0087ff\">Dense</span>)                 │ ?                      │   <span style=\"color: #00af00; text-decoration-color: #00af00\">0</span> (unbuilt) │\n",
              "└─────────────────────────────────┴────────────────────────┴───────────────┘\n",
              "</pre>\n"
            ]
          },
          "metadata": {}
        },
        {
          "output_type": "display_data",
          "data": {
            "text/plain": [
              "\u001b[1m Total params: \u001b[0m\u001b[38;5;34m0\u001b[0m (0.00 B)\n"
            ],
            "text/html": [
              "<pre style=\"white-space:pre;overflow-x:auto;line-height:normal;font-family:Menlo,'DejaVu Sans Mono',consolas,'Courier New',monospace\"><span style=\"font-weight: bold\"> Total params: </span><span style=\"color: #00af00; text-decoration-color: #00af00\">0</span> (0.00 B)\n",
              "</pre>\n"
            ]
          },
          "metadata": {}
        },
        {
          "output_type": "display_data",
          "data": {
            "text/plain": [
              "\u001b[1m Trainable params: \u001b[0m\u001b[38;5;34m0\u001b[0m (0.00 B)\n"
            ],
            "text/html": [
              "<pre style=\"white-space:pre;overflow-x:auto;line-height:normal;font-family:Menlo,'DejaVu Sans Mono',consolas,'Courier New',monospace\"><span style=\"font-weight: bold\"> Trainable params: </span><span style=\"color: #00af00; text-decoration-color: #00af00\">0</span> (0.00 B)\n",
              "</pre>\n"
            ]
          },
          "metadata": {}
        },
        {
          "output_type": "display_data",
          "data": {
            "text/plain": [
              "\u001b[1m Non-trainable params: \u001b[0m\u001b[38;5;34m0\u001b[0m (0.00 B)\n"
            ],
            "text/html": [
              "<pre style=\"white-space:pre;overflow-x:auto;line-height:normal;font-family:Menlo,'DejaVu Sans Mono',consolas,'Courier New',monospace\"><span style=\"font-weight: bold\"> Non-trainable params: </span><span style=\"color: #00af00; text-decoration-color: #00af00\">0</span> (0.00 B)\n",
              "</pre>\n"
            ]
          },
          "metadata": {}
        }
      ]
    },
    {
      "cell_type": "markdown",
      "source": [
        "#Compilation of model"
      ],
      "metadata": {
        "id": "CNnqgbf8on8M"
      }
    },
    {
      "cell_type": "code",
      "source": [
        "model.compile(\n",
        "    optimizer=\"adam\",  # popular optimizer to optimize weights and biases\n",
        "    loss=losses.BinaryCrossentropy(),  # Loss function for binary classification\n",
        "    metrics=[\n",
        "        tf.metrics.BinaryAccuracy(threshold=0.5) #Threshold is the line b/w the good and bad; here if model have accuracy of vector >50 then its a good word in context and vice vers\n",
        "    ],  # Metrics to evaluate model performance\n",
        ")"
      ],
      "metadata": {
        "id": "dWwKBWHzojQC"
      },
      "execution_count": 59,
      "outputs": []
    },
    {
      "cell_type": "markdown",
      "source": [
        "\n",
        "\n",
        "#Fitting Model\n"
      ],
      "metadata": {
        "id": "mAJJwXEzotOo"
      }
    },
    {
      "cell_type": "code",
      "source": [
        "history=model.fit(x_train,validation_data=x_val,epochs=10)"
      ],
      "metadata": {
        "colab": {
          "base_uri": "https://localhost:8080/"
        },
        "id": "40VSAddyosb7",
        "outputId": "80923ff5-b060-4502-b1ed-2ddfd740e87f"
      },
      "execution_count": 60,
      "outputs": [
        {
          "output_type": "stream",
          "name": "stdout",
          "text": [
            "Epoch 1/10\n",
            "\u001b[1m625/625\u001b[0m \u001b[32m━━━━━━━━━━━━━━━━━━━━\u001b[0m\u001b[37m\u001b[0m \u001b[1m6s\u001b[0m 8ms/step - binary_accuracy: 0.5803 - loss: 0.6817 - val_binary_accuracy: 0.7312 - val_loss: 0.6120\n",
            "Epoch 2/10\n",
            "\u001b[1m625/625\u001b[0m \u001b[32m━━━━━━━━━━━━━━━━━━━━\u001b[0m\u001b[37m\u001b[0m \u001b[1m6s\u001b[0m 9ms/step - binary_accuracy: 0.7643 - loss: 0.5783 - val_binary_accuracy: 0.8090 - val_loss: 0.4971\n",
            "Epoch 3/10\n",
            "\u001b[1m625/625\u001b[0m \u001b[32m━━━━━━━━━━━━━━━━━━━━\u001b[0m\u001b[37m\u001b[0m \u001b[1m5s\u001b[0m 8ms/step - binary_accuracy: 0.8262 - loss: 0.4642 - val_binary_accuracy: 0.8344 - val_loss: 0.4247\n",
            "Epoch 4/10\n",
            "\u001b[1m625/625\u001b[0m \u001b[32m━━━━━━━━━━━━━━━━━━━━\u001b[0m\u001b[37m\u001b[0m \u001b[1m6s\u001b[0m 9ms/step - binary_accuracy: 0.8515 - loss: 0.3946 - val_binary_accuracy: 0.8374 - val_loss: 0.3878\n",
            "Epoch 5/10\n",
            "\u001b[1m625/625\u001b[0m \u001b[32m━━━━━━━━━━━━━━━━━━━━\u001b[0m\u001b[37m\u001b[0m \u001b[1m5s\u001b[0m 7ms/step - binary_accuracy: 0.8674 - loss: 0.3474 - val_binary_accuracy: 0.8382 - val_loss: 0.3678\n",
            "Epoch 6/10\n",
            "\u001b[1m625/625\u001b[0m \u001b[32m━━━━━━━━━━━━━━━━━━━━\u001b[0m\u001b[37m\u001b[0m \u001b[1m5s\u001b[0m 8ms/step - binary_accuracy: 0.8811 - loss: 0.3139 - val_binary_accuracy: 0.8552 - val_loss: 0.3425\n",
            "Epoch 7/10\n",
            "\u001b[1m625/625\u001b[0m \u001b[32m━━━━━━━━━━━━━━━━━━━━\u001b[0m\u001b[37m\u001b[0m \u001b[1m6s\u001b[0m 9ms/step - binary_accuracy: 0.8928 - loss: 0.2896 - val_binary_accuracy: 0.8546 - val_loss: 0.3325\n",
            "Epoch 8/10\n",
            "\u001b[1m625/625\u001b[0m \u001b[32m━━━━━━━━━━━━━━━━━━━━\u001b[0m\u001b[37m\u001b[0m \u001b[1m5s\u001b[0m 7ms/step - binary_accuracy: 0.8987 - loss: 0.2699 - val_binary_accuracy: 0.8582 - val_loss: 0.3233\n",
            "Epoch 9/10\n",
            "\u001b[1m625/625\u001b[0m \u001b[32m━━━━━━━━━━━━━━━━━━━━\u001b[0m\u001b[37m\u001b[0m \u001b[1m6s\u001b[0m 9ms/step - binary_accuracy: 0.9060 - loss: 0.2546 - val_binary_accuracy: 0.8586 - val_loss: 0.3179\n",
            "Epoch 10/10\n",
            "\u001b[1m625/625\u001b[0m \u001b[32m━━━━━━━━━━━━━━━━━━━━\u001b[0m\u001b[37m\u001b[0m \u001b[1m9s\u001b[0m 8ms/step - binary_accuracy: 0.9122 - loss: 0.2374 - val_binary_accuracy: 0.8616 - val_loss: 0.3131\n"
          ]
        }
      ]
    },
    {
      "cell_type": "markdown",
      "source": [
        "#Evaluate"
      ],
      "metadata": {
        "id": "3je3dP6Kqx6e"
      }
    },
    {
      "cell_type": "code",
      "source": [
        "loss, accuracy = model.evaluate(x_test, verbose=2)\n",
        "# Evaluates the model on the test dataset (x_test)\n",
        "# 'verbose=2' prints one line per epoch: more informative than 0 (silent) or 1 (progress bar)\n",
        "\n",
        "print(\"Loss\", loss)  # Displays how far off the model's predictions are (lower is better)\n",
        "print(f\"Accuracy {accuracy:.3f}\")  # Displays accuracy as a percentage (formatted to 3 decimal places)\n"
      ],
      "metadata": {
        "colab": {
          "base_uri": "https://localhost:8080/"
        },
        "id": "Wqq27nyjqz6R",
        "outputId": "e8d5ab66-edbb-4c30-881c-ab24b212acbb"
      },
      "execution_count": 61,
      "outputs": [
        {
          "output_type": "stream",
          "name": "stdout",
          "text": [
            "782/782 - 2s - 3ms/step - binary_accuracy: 0.8555 - loss: 0.3319\n",
            "Loss 0.33192166686058044\n",
            "Accuracy 0.855\n"
          ]
        }
      ]
    },
    {
      "cell_type": "markdown",
      "source": [
        "#Predicting"
      ],
      "metadata": {
        "id": "t0Idkp-htJGm"
      }
    },
    {
      "cell_type": "markdown",
      "source": [
        "To create new model with the trained sets which we did till now and with that, vectorize_layer and if want then change the activation"
      ],
      "metadata": {
        "id": "OfjY-zviuo8l"
      }
    },
    {
      "cell_type": "code",
      "source": [
        "export_model = tf.keras.Sequential([\n",
        "    vectorize_layer,                      # Handles raw string input,its the method of preprocessing inside the model\n",
        "    model,                                # Your trained model\n",
        "    layers.Activation('sigmoid')            # Optional extra layer\n",
        "])\n",
        "\n",
        "export_model.compile(\n",
        "    loss=tf.keras.losses.BinaryCrossentropy(),\n",
        "    optimizer='adam',\n",
        "    metrics=['accuracy']\n",
        ")\n",
        "\n",
        "# Now, you can pass RAW TEXT directly\n",
        "sample_texts = tf.constant([\"This movie was great!\",\n",
        "                            \"very good movie\",\n",
        "                            \"Terribly good movie\"])\n",
        "predictions = export_model.predict(sample_texts)\n",
        "print(predictions)\n"
      ],
      "metadata": {
        "colab": {
          "base_uri": "https://localhost:8080/"
        },
        "collapsed": true,
        "id": "KhIWqRYCstqz",
        "outputId": "0ec30816-8b0a-4d7b-bce2-5911db8a39c2"
      },
      "execution_count": 63,
      "outputs": [
        {
          "output_type": "stream",
          "name": "stdout",
          "text": [
            "\u001b[1m1/1\u001b[0m \u001b[32m━━━━━━━━━━━━━━━━━━━━\u001b[0m\u001b[37m\u001b[0m \u001b[1m0s\u001b[0m 190ms/step\n",
            "[[0.57735217]\n",
            " [0.57035446]\n",
            " [0.5523901 ]]\n"
          ]
        }
      ]
    },
    {
      "cell_type": "markdown",
      "source": [
        "#Saving Data"
      ],
      "metadata": {
        "id": "vdaw5lpn7OIc"
      }
    },
    {
      "cell_type": "code",
      "source": [
        "model.save(\"sentiments.h5\")\n"
      ],
      "metadata": {
        "colab": {
          "base_uri": "https://localhost:8080/"
        },
        "id": "v4y6UEFP7VTF",
        "outputId": "8da81ec2-1045-4a0a-cd1d-311d99ced0bc"
      },
      "execution_count": 71,
      "outputs": [
        {
          "output_type": "stream",
          "name": "stderr",
          "text": [
            "WARNING:absl:You are saving your model as an HDF5 file via `model.save()` or `keras.saving.save_model(model)`. This file format is considered legacy. We recommend using instead the native Keras format, e.g. `model.save('my_model.keras')` or `keras.saving.save_model(model, 'my_model.keras')`. \n"
          ]
        }
      ]
    }
  ]
}